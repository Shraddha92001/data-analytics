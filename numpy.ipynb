{
 "cells": [
  {
   "cell_type": "code",
   "execution_count": 23,
   "metadata": {},
   "outputs": [
    {
     "name": "stdout",
     "output_type": "stream",
     "text": [
      "[10 20 30 40 50]\n",
      "<class 'numpy.ndarray'>\n"
     ]
    }
   ],
   "source": [
    "import numpy as np\n",
    "\n",
    "arr = np.array([10,20,30,40,50])\n",
    "print(arr)\n",
    "print(type(arr))"
   ]
  },
  {
   "cell_type": "code",
   "execution_count": 24,
   "metadata": {},
   "outputs": [
    {
     "name": "stdout",
     "output_type": "stream",
     "text": [
      "<class 'numpy.ndarray'>\n",
      "[1 2 3 4 5 6 7]\n"
     ]
    }
   ],
   "source": [
    "arr = np.array((1,2,3,4,5,6,7))\n",
    "print(type(arr))\n",
    "print(arr)"
   ]
  },
  {
   "cell_type": "code",
   "execution_count": 25,
   "metadata": {},
   "outputs": [
    {
     "name": "stdout",
     "output_type": "stream",
     "text": [
      "111\n",
      "0\n"
     ]
    }
   ],
   "source": [
    "#0 dimention Array\n",
    "arr = np.array((111))\n",
    "print((arr))\n",
    "print(arr.ndim)"
   ]
  },
  {
   "cell_type": "code",
   "execution_count": 26,
   "metadata": {},
   "outputs": [
    {
     "name": "stdout",
     "output_type": "stream",
     "text": [
      "[ 1 12 15 11]\n",
      "1\n"
     ]
    }
   ],
   "source": [
    "# 1 dimention Array\n",
    "arr = np.array((1,12,15,11))\n",
    "print((arr))\n",
    "print(arr.ndim)"
   ]
  },
  {
   "cell_type": "code",
   "execution_count": 27,
   "metadata": {},
   "outputs": [
    {
     "name": "stdout",
     "output_type": "stream",
     "text": [
      "[[ 1 12 15 11]\n",
      " [10 20 30 40]]\n",
      "2\n"
     ]
    }
   ],
   "source": [
    "# 2 dimention Array\n",
    "arr = np.array([[1,12,15,11],[10,20,30,40]])\n",
    "print((arr))\n",
    "print(arr.ndim)"
   ]
  },
  {
   "cell_type": "code",
   "execution_count": 28,
   "metadata": {},
   "outputs": [
    {
     "name": "stdout",
     "output_type": "stream",
     "text": [
      "[[ 1 12 15 11]\n",
      " [10 20 30 40]\n",
      " [12 30 52 62]]\n",
      "2\n"
     ]
    }
   ],
   "source": [
    "# 2 dimention Array\n",
    "arr = np.array([[1,12,15,11],[10,20,30,40],[12,30,52,62]])\n",
    "print((arr))\n",
    "print(arr.ndim)"
   ]
  },
  {
   "cell_type": "code",
   "execution_count": 29,
   "metadata": {},
   "outputs": [
    {
     "name": "stdout",
     "output_type": "stream",
     "text": [
      "[[[10 10 20]\n",
      "  [10 20 30]]]\n",
      "3\n"
     ]
    }
   ],
   "source": [
    "# 3 dimention Array\n",
    "arr = np.array([[[10,10,20],[10,20,30]]])\n",
    "print((arr))\n",
    "print(arr.ndim)"
   ]
  },
  {
   "cell_type": "code",
   "execution_count": 30,
   "metadata": {},
   "outputs": [
    {
     "name": "stdout",
     "output_type": "stream",
     "text": [
      "[[[[[ 1  2  5  6 34  7]]]]]\n",
      "number of dimention 5\n"
     ]
    }
   ],
   "source": [
    "# 5 dimention array\n",
    "\n",
    "\n",
    "arr = np.array([1,2,5,6,34,7],ndmin= 5)\n",
    "print(arr)\n",
    "print(\"number of dimention\", arr.ndim)"
   ]
  },
  {
   "cell_type": "markdown",
   "metadata": {},
   "source": [
    "numpy array indexing\n"
   ]
  },
  {
   "cell_type": "code",
   "execution_count": 31,
   "metadata": {},
   "outputs": [
    {
     "name": "stdout",
     "output_type": "stream",
     "text": [
      "<class 'numpy.ndarray'>\n",
      "2\n"
     ]
    }
   ],
   "source": [
    "arr = np.array((1,2,3,4,5,6,7))\n",
    "print(type(arr))\n",
    "print(arr[1])"
   ]
  },
  {
   "cell_type": "markdown",
   "metadata": {},
   "source": [
    "# add the element from the array"
   ]
  },
  {
   "cell_type": "code",
   "execution_count": 34,
   "metadata": {},
   "outputs": [
    {
     "name": "stdout",
     "output_type": "stream",
     "text": [
      "add elemnt no. 5 98\n",
      "add elemnt no. 8 6\n",
      "add elemnt no. 3 3\n",
      "add elemnt no. 7 5\n",
      "total of all the elements  112\n"
     ]
    }
   ],
   "source": [
    "arr = np.array([1,2,56,3,6,98,5,5,6,7])\n",
    "\n",
    "print(\"add elemnt no. 5\",arr[5] )\n",
    "print(\"add elemnt no. 8\",arr[8] )\n",
    "print(\"add elemnt no. 3\",arr[3] )\n",
    "print(\"add elemnt no. 7\",arr[7] )\n",
    "print(\"total of all the elements \",arr[5]+arr[8]+arr[3]+arr[7])"
   ]
  },
  {
   "cell_type": "markdown",
   "metadata": {},
   "source": [
    "slicing of numpy array"
   ]
  },
  {
   "cell_type": "code",
   "execution_count": 43,
   "metadata": {},
   "outputs": [
    {
     "name": "stdout",
     "output_type": "stream",
     "text": [
      "[ 2 56  3  6]\n",
      "1\n",
      "<class 'numpy.ndarray'>\n",
      "[1 3 5 7]\n"
     ]
    }
   ],
   "source": [
    "#one dimention\n",
    "arr = np.array([1,2,56,3,6,98,5,5,6,7])\n",
    "print(arr[1:5])\n",
    "print(arr.ndim)\n",
    "print(type(arr))\n",
    "\n",
    "print(arr[::3]) #skip 3 elements"
   ]
  },
  {
   "cell_type": "code",
   "execution_count": 45,
   "metadata": {},
   "outputs": [
    {
     "name": "stdout",
     "output_type": "stream",
     "text": [
      "[[10 20  5  2  6 56  7  5  8  9]]\n",
      "2\n",
      "<class 'numpy.ndarray'>\n",
      "[ 2 56  3]\n",
      "[20  5  2]\n"
     ]
    }
   ],
   "source": [
    "# two dimention\n",
    "arr = np.array([[1,2,56,3,6,98,5,5,6,7],[10,20,5,2,6,56,7,5,8,9]])\n",
    "print(arr[1:5])\n",
    "print(arr.ndim)\n",
    "print(type(arr))\n",
    "\n",
    "\n",
    "print(arr[0,1:4]) # 0 array , index number 1 to 4\n",
    "print(arr[1,1:4]) # 1 array , index number 1 to 4\n",
    "\n"
   ]
  },
  {
   "cell_type": "markdown",
   "metadata": {},
   "source": [
    "cheking the data type of an array"
   ]
  },
  {
   "cell_type": "code",
   "execution_count": 46,
   "metadata": {},
   "outputs": [
    {
     "name": "stdout",
     "output_type": "stream",
     "text": [
      "int32\n"
     ]
    }
   ],
   "source": [
    "arr  = np.array([1,2,5,6,0])\n",
    "print (arr.dtype)"
   ]
  },
  {
   "cell_type": "code",
   "execution_count": 47,
   "metadata": {},
   "outputs": [
    {
     "name": "stdout",
     "output_type": "stream",
     "text": [
      "<U3\n"
     ]
    }
   ],
   "source": [
    "arr  = np.array(['cat','dog'])\n",
    "print (arr.dtype)"
   ]
  },
  {
   "cell_type": "markdown",
   "metadata": {},
   "source": [
    "creating array using diffrent type of datatypes"
   ]
  },
  {
   "cell_type": "code",
   "execution_count": 50,
   "metadata": {},
   "outputs": [
    {
     "name": "stdout",
     "output_type": "stream",
     "text": [
      "[b'1' b'2' b'3' b'4']\n",
      "|S1\n"
     ]
    }
   ],
   "source": [
    "arr = np.array([1, 2, 3, 4], dtype='S')\n",
    "\n",
    "print(arr)\n",
    "print(arr.dtype)"
   ]
  },
  {
   "cell_type": "markdown",
   "metadata": {},
   "source": [
    "Print Shape of 2D array\n"
   ]
  },
  {
   "cell_type": "code",
   "execution_count": 51,
   "metadata": {},
   "outputs": [
    {
     "name": "stdout",
     "output_type": "stream",
     "text": [
      "(1, 3, 3)\n"
     ]
    }
   ],
   "source": [
    "arr = np.array([[[1,2,3],[5,6,3],[4,8,9]]])\n",
    "print(arr.shape)\n",
    "\n",
    "#output\n",
    "# 1 = how many 2D \n",
    "# 3 = the total rows\n",
    "# 3 = the total items in each rows"
   ]
  },
  {
   "cell_type": "markdown",
   "metadata": {},
   "source": [
    "joining numpy arrays"
   ]
  },
  {
   "cell_type": "code",
   "execution_count": 54,
   "metadata": {},
   "outputs": [
    {
     "name": "stdout",
     "output_type": "stream",
     "text": [
      "[ 10  20  30 110 240 350]\n"
     ]
    }
   ],
   "source": [
    "#join for 1D \n",
    "arr1 = np.array([10,20,30])\n",
    "arr2 = np.array([110,240,350])\n",
    "\n",
    "arr3 = np.concatenate((arr1,arr2))\n",
    "print(arr3)"
   ]
  },
  {
   "cell_type": "code",
   "execution_count": 61,
   "metadata": {},
   "outputs": [
    {
     "name": "stdout",
     "output_type": "stream",
     "text": [
      "[[10 20 30 10 20 30]\n",
      " [10 52 85 10 52 85]]\n",
      "<class 'numpy.ndarray'>\n"
     ]
    }
   ],
   "source": [
    "#join for 2d array\n",
    "\n",
    "arr1 = np.array([[10,20,30],[10,52,85]])\n",
    "arr2 = np.array([[10,20,30],[10,52,85]])\n",
    "\n",
    "arr3 = np.concatenate((arr1,arr2),axis = 1)\n",
    "print(arr3)\n",
    "print(type(arr3))"
   ]
  },
  {
   "cell_type": "code",
   "execution_count": null,
   "metadata": {},
   "outputs": [],
   "source": []
  }
 ],
 "metadata": {
  "kernelspec": {
   "display_name": "Python 3",
   "language": "python",
   "name": "python3"
  },
  "language_info": {
   "codemirror_mode": {
    "name": "ipython",
    "version": 3
   },
   "file_extension": ".py",
   "mimetype": "text/x-python",
   "name": "python",
   "nbconvert_exporter": "python",
   "pygments_lexer": "ipython3",
   "version": "3.10.10"
  },
  "orig_nbformat": 4
 },
 "nbformat": 4,
 "nbformat_minor": 2
}
