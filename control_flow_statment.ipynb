{
 "cells": [
  {
   "cell_type": "markdown",
   "metadata": {},
   "source": [
    "if condition"
   ]
  },
  {
   "cell_type": "markdown",
   "metadata": {},
   "source": [
    "WAP to calculate the percentage of student in the subject"
   ]
  },
  {
   "cell_type": "code",
   "execution_count": 9,
   "metadata": {},
   "outputs": [
    {
     "name": "stdout",
     "output_type": "stream",
     "text": [
      "the percent scored by student is  45.0\n"
     ]
    }
   ],
   "source": [
    "x = input(\"enter the name of student..\")\n",
    "a = int(input(\"enter the marks of maths\"))\n",
    "b = int(input(\"enter the marks of hindi\"))\n",
    "c = int(input(\"enter the marks of science\"))\n",
    "d = int(input(\"enter the marks of social\"))\n",
    "\n",
    "n = ((a+b+c+d)/400)*100\n",
    "print(\"the percent scored by student is \",n)\n"
   ]
  },
  {
   "cell_type": "code",
   "execution_count": 10,
   "metadata": {},
   "outputs": [
    {
     "name": "stdout",
     "output_type": "stream",
     "text": [
      "its okkk\n"
     ]
    }
   ],
   "source": [
    "a = int(input(\"enter the total percent\"))\n",
    "if a >= 90:\n",
    "    print(\"A grade\")\n",
    "if a>=75 and a <90:\n",
    "    print(\"B grade\")\n",
    "else:\n",
    "    print(\"C grade\")\n",
    "\n",
    "     "
   ]
  },
  {
   "cell_type": "markdown",
   "metadata": {},
   "source": []
  },
  {
   "cell_type": "code",
   "execution_count": null,
   "metadata": {},
   "outputs": [],
   "source": []
  }
 ],
 "metadata": {
  "kernelspec": {
   "display_name": "Python 3",
   "language": "python",
   "name": "python3"
  },
  "language_info": {
   "codemirror_mode": {
    "name": "ipython",
    "version": 3
   },
   "file_extension": ".py",
   "mimetype": "text/x-python",
   "name": "python",
   "nbconvert_exporter": "python",
   "pygments_lexer": "ipython3",
   "version": "3.10.10"
  },
  "orig_nbformat": 4
 },
 "nbformat": 4,
 "nbformat_minor": 2
}
