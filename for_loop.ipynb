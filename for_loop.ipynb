{
 "cells": [
  {
   "cell_type": "markdown",
   "metadata": {},
   "source": [
    "for loop"
   ]
  },
  {
   "cell_type": "code",
   "execution_count": null,
   "metadata": {},
   "outputs": [],
   "source": [
    "fruits = [\"apple\", \"banana\", \"mango\"]\n",
    "for x in fruits:\n",
    "    print(x)"
   ]
  },
  {
   "cell_type": "code",
   "execution_count": null,
   "metadata": {},
   "outputs": [],
   "source": [
    "for x in \"bananan\":\n",
    "    print(x)"
   ]
  },
  {
   "cell_type": "code",
   "execution_count": null,
   "metadata": {},
   "outputs": [],
   "source": [
    "for x in range(16):\n",
    "    print(x)"
   ]
  },
  {
   "cell_type": "code",
   "execution_count": null,
   "metadata": {},
   "outputs": [],
   "source": [
    "for x in range(5, 16):\n",
    "    print(x)"
   ]
  },
  {
   "cell_type": "code",
   "execution_count": 5,
   "metadata": {},
   "outputs": [
    {
     "name": "stdout",
     "output_type": "stream",
     "text": [
      "1\n",
      "2\n",
      "3\n",
      "4\n",
      "5\n",
      "6\n",
      "7\n",
      "8\n",
      "9\n",
      "10\n"
     ]
    }
   ],
   "source": [
    "#natural number\n",
    "\n",
    "for i in range(1,11):\n",
    "    print(i) "
   ]
  },
  {
   "cell_type": "code",
   "execution_count": 8,
   "metadata": {},
   "outputs": [
    {
     "name": "stdout",
     "output_type": "stream",
     "text": [
      "2\n",
      "4\n",
      "6\n",
      "8\n",
      "10\n",
      "12\n",
      "14\n",
      "16\n",
      "18\n"
     ]
    }
   ],
   "source": [
    "#even number\n",
    "\n",
    "for i in range(2,20,2):\n",
    "    print(i) "
   ]
  },
  {
   "cell_type": "code",
   "execution_count": 9,
   "metadata": {},
   "outputs": [
    {
     "name": "stdout",
     "output_type": "stream",
     "text": [
      "1\n",
      "3\n",
      "5\n",
      "7\n",
      "9\n",
      "11\n",
      "13\n",
      "15\n",
      "17\n",
      "19\n"
     ]
    }
   ],
   "source": [
    "#odd number\n",
    "\n",
    "for i in range(1,20,2):\n",
    "    print(i) "
   ]
  },
  {
   "cell_type": "code",
   "execution_count": 19,
   "metadata": {},
   "outputs": [
    {
     "name": "stdout",
     "output_type": "stream",
     "text": [
      "12\n",
      "10\n",
      "8\n",
      "6\n",
      "4\n",
      "2\n"
     ]
    }
   ],
   "source": [
    "#even number in reverce order\n",
    "for i in range(12,0,-2):\n",
    "    print(i)"
   ]
  },
  {
   "cell_type": "code",
   "execution_count": 26,
   "metadata": {},
   "outputs": [
    {
     "name": "stdout",
     "output_type": "stream",
     "text": [
      "12\n",
      "24\n",
      "36\n",
      "48\n",
      "60\n",
      "72\n",
      "84\n",
      "96\n",
      "108\n",
      "120\n"
     ]
    }
   ],
   "source": [
    "#table\n",
    "i=1\n",
    "x = int(input(\"enter the number\"))\n",
    "for i in range(1,11):\n",
    "    b = i*x\n",
    "    print(b)"
   ]
  },
  {
   "cell_type": "code",
   "execution_count": 42,
   "metadata": {},
   "outputs": [
    {
     "name": "stdout",
     "output_type": "stream",
     "text": [
      "1\n",
      "2\n",
      "6\n",
      "24\n",
      "the factoeial of 4 is 24\n"
     ]
    }
   ],
   "source": [
    "#factorial number\n",
    "\n",
    "x = int(input(\"enter the number::\"))\n",
    "a = 1\n",
    "for i in range(1 ,x + 1):\n",
    "    a = a*i\n",
    "    print(a)\n",
    "\n",
    "print(\"the factoeial of\",x,  \"is\",a)"
   ]
  },
  {
   "cell_type": "code",
   "execution_count": 35,
   "metadata": {},
   "outputs": [
    {
     "name": "stdout",
     "output_type": "stream",
     "text": [
      "The factorial of 50 is 1\n",
      "The factorial of 50 is 2\n",
      "The factorial of 50 is 6\n",
      "The factorial of 50 is 24\n",
      "The factorial of 50 is 120\n",
      "The factorial of 50 is 720\n",
      "The factorial of 50 is 5040\n",
      "The factorial of 50 is 40320\n",
      "The factorial of 50 is 362880\n",
      "The factorial of 50 is 3628800\n",
      "The factorial of 50 is 39916800\n",
      "The factorial of 50 is 479001600\n",
      "The factorial of 50 is 6227020800\n",
      "The factorial of 50 is 87178291200\n",
      "The factorial of 50 is 1307674368000\n",
      "The factorial of 50 is 20922789888000\n",
      "The factorial of 50 is 355687428096000\n",
      "The factorial of 50 is 6402373705728000\n",
      "The factorial of 50 is 121645100408832000\n",
      "The factorial of 50 is 2432902008176640000\n",
      "The factorial of 50 is 51090942171709440000\n",
      "The factorial of 50 is 1124000727777607680000\n",
      "The factorial of 50 is 25852016738884976640000\n",
      "The factorial of 50 is 620448401733239439360000\n",
      "The factorial of 50 is 15511210043330985984000000\n",
      "The factorial of 50 is 403291461126605635584000000\n",
      "The factorial of 50 is 10888869450418352160768000000\n",
      "The factorial of 50 is 304888344611713860501504000000\n",
      "The factorial of 50 is 8841761993739701954543616000000\n",
      "The factorial of 50 is 265252859812191058636308480000000\n",
      "The factorial of 50 is 8222838654177922817725562880000000\n",
      "The factorial of 50 is 263130836933693530167218012160000000\n",
      "The factorial of 50 is 8683317618811886495518194401280000000\n",
      "The factorial of 50 is 295232799039604140847618609643520000000\n",
      "The factorial of 50 is 10333147966386144929666651337523200000000\n",
      "The factorial of 50 is 371993326789901217467999448150835200000000\n",
      "The factorial of 50 is 13763753091226345046315979581580902400000000\n",
      "The factorial of 50 is 523022617466601111760007224100074291200000000\n",
      "The factorial of 50 is 20397882081197443358640281739902897356800000000\n",
      "The factorial of 50 is 815915283247897734345611269596115894272000000000\n",
      "The factorial of 50 is 33452526613163807108170062053440751665152000000000\n",
      "The factorial of 50 is 1405006117752879898543142606244511569936384000000000\n",
      "The factorial of 50 is 60415263063373835637355132068513997507264512000000000\n",
      "The factorial of 50 is 2658271574788448768043625811014615890319638528000000000\n",
      "The factorial of 50 is 119622220865480194561963161495657715064383733760000000000\n",
      "The factorial of 50 is 5502622159812088949850305428800254892961651752960000000000\n",
      "The factorial of 50 is 258623241511168180642964355153611979969197632389120000000000\n",
      "The factorial of 50 is 12413915592536072670862289047373375038521486354677760000000000\n",
      "The factorial of 50 is 608281864034267560872252163321295376887552831379210240000000000\n",
      "The factorial of 50 is 30414093201713378043612608166064768844377641568960512000000000000\n"
     ]
    }
   ],
   "source": [
    "num = int(input(\"enter number\"))\n",
    "factorial = 1\n",
    "for i in range(1,num + 1):\n",
    "       factorial = factorial*i\n",
    "       print(\"The factorial of\",num,\"is\",factorial)"
   ]
  }
 ],
 "metadata": {
  "kernelspec": {
   "display_name": "Python 3",
   "language": "python",
   "name": "python3"
  },
  "language_info": {
   "codemirror_mode": {
    "name": "ipython",
    "version": 3
   },
   "file_extension": ".py",
   "mimetype": "text/x-python",
   "name": "python",
   "nbconvert_exporter": "python",
   "pygments_lexer": "ipython3",
   "version": "3.10.10"
  },
  "orig_nbformat": 4
 },
 "nbformat": 4,
 "nbformat_minor": 2
}
