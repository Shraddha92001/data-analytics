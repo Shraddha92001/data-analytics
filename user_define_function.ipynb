{
 "cells": [
  {
   "cell_type": "code",
   "execution_count": 32,
   "metadata": {},
   "outputs": [
    {
     "data": {
      "text/plain": [
       "<function __main__.my_function()>"
      ]
     },
     "execution_count": 32,
     "metadata": {},
     "output_type": "execute_result"
    }
   ],
   "source": [
    "def my_function():\n",
    "    c = a+b\n",
    "    print(c)\n",
    "\n",
    "my_function"
   ]
  },
  {
   "cell_type": "code",
   "execution_count": 33,
   "metadata": {},
   "outputs": [],
   "source": [
    "def result():\n",
    "    print(\"welcome to school DPS\")\n",
    "    print(\"contact no. 986899523\")\n",
    "\n"
   ]
  },
  {
   "cell_type": "code",
   "execution_count": 34,
   "metadata": {},
   "outputs": [
    {
     "name": "stdout",
     "output_type": "stream",
     "text": [
      "\n",
      "\n"
     ]
    }
   ],
   "source": [
    "for i in range(2):\n",
    "    a = input(\"enter name\")\n",
    "    b = int(input(\"enter math number\"))\n",
    "    c = int(input(\"enter science number\"))\n",
    "    d = int(input(\"enter english number\"))\n",
    "    print()\n",
    "    result()\n"
   ]
  },
  {
   "cell_type": "markdown",
   "metadata": {},
   "source": [
    "Arguments\n"
   ]
  },
  {
   "cell_type": "code",
   "execution_count": 35,
   "metadata": {},
   "outputs": [],
   "source": [
    "def my_name(fname , lname):\n",
    "    print(fname + \" \" + lname)\n",
    "\n"
   ]
  },
  {
   "cell_type": "code",
   "execution_count": 36,
   "metadata": {},
   "outputs": [
    {
     "name": "stdout",
     "output_type": "stream",
     "text": [
      "shree singh\n"
     ]
    }
   ],
   "source": [
    "my_name(\"shree\", \"singh\")"
   ]
  },
  {
   "cell_type": "markdown",
   "metadata": {},
   "source": [
    "WAP to calculate light bill"
   ]
  },
  {
   "cell_type": "code",
   "execution_count": 37,
   "metadata": {},
   "outputs": [],
   "source": [
    "def light_bill(n):\n",
    "    if n <=500:\n",
    "        print(\"your bill is\" , n*5)\n",
    "    elif n <= 700:\n",
    "        print(\"your bill is\",n*10)\n",
    "    elif n<=1000:\n",
    "        print(\"your bill is\", n*15)\n",
    "    elif n< 1000:\n",
    "        print(\"your bill is\",n*20)"
   ]
  },
  {
   "cell_type": "code",
   "execution_count": 39,
   "metadata": {},
   "outputs": [
    {
     "name": "stdout",
     "output_type": "stream",
     "text": [
      "\n",
      "your bill is 14400\n",
      "\n",
      "your bill is 2445\n"
     ]
    }
   ],
   "source": [
    "for i in range(2):\n",
    "    a = input(\"enter the name\")\n",
    "    n = int(input(\"enter the unit have you used\"))\n",
    "    print()\n",
    "    light_bill(n)\n"
   ]
  },
  {
   "cell_type": "code",
   "execution_count": null,
   "metadata": {},
   "outputs": [],
   "source": []
  }
 ],
 "metadata": {
  "kernelspec": {
   "display_name": "Python 3",
   "language": "python",
   "name": "python3"
  },
  "language_info": {
   "codemirror_mode": {
    "name": "ipython",
    "version": 3
   },
   "file_extension": ".py",
   "mimetype": "text/x-python",
   "name": "python",
   "nbconvert_exporter": "python",
   "pygments_lexer": "ipython3",
   "version": "3.10.10"
  },
  "orig_nbformat": 4
 },
 "nbformat": 4,
 "nbformat_minor": 2
}
